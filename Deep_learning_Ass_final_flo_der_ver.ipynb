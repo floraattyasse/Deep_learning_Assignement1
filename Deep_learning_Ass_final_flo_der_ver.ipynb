{
 "cells": [
  {
   "cell_type": "markdown",
   "metadata": {},
   "source": [
    "# Deep Learning : Assignment 1 \n",
    "# Image Classification and Regression\n",
    "## Attyasse Flora  \n",
    "### Master DSBA"
   ]
  },
  {
   "cell_type": "code",
   "execution_count": 1,
   "metadata": {},
   "outputs": [],
   "source": [
    "import matplotlib.pyplot as plt\n",
    "%matplotlib inline\n",
    "import numpy as np\n",
    "\n",
    "# On some implementations of matplotlib, you may need to change this value\n",
    "IMAGE_SIZE = 72\n"
   ]
  },
  {
   "cell_type": "code",
   "execution_count": 2,
   "metadata": {},
   "outputs": [],
   "source": [
    "\n",
    "def generate_a_drawing(figsize, U, V, noise=0.0):\n",
    "    fig = plt.figure(figsize=(figsize,figsize))\n",
    "    ax = plt.subplot(111)\n",
    "    plt.axis('Off')\n",
    "    ax.set_xlim(0,figsize)\n",
    "    ax.set_ylim(0,figsize)\n",
    "    ax.fill(U, V, \"k\")\n",
    "    fig.canvas.draw()\n",
    "    imdata = np.frombuffer(fig.canvas.tostring_rgb(), dtype=np.uint8)[::3].astype(np.float32)\n",
    "    imdata = imdata + noise * np.random.random(imdata.size)\n",
    "    plt.close(fig)\n",
    "    return imdata\n",
    "\n",
    "def generate_a_rectangle(noise=0.0, free_location=False):\n",
    "    figsize = 1.0    \n",
    "    U = np.zeros(4)\n",
    "    V = np.zeros(4)\n",
    "    if free_location:\n",
    "        corners = np.random.random(4)\n",
    "        top = max(corners[0], corners[1])\n",
    "        bottom = min(corners[0], corners[1])\n",
    "        left = min(corners[2], corners[3])\n",
    "        right = max(corners[2], corners[3])\n",
    "    else:\n",
    "        side = (0.3 + 0.7 * np.random.random()) * figsize\n",
    "        top = figsize/2 + side/2\n",
    "        bottom = figsize/2 - side/2\n",
    "        left = bottom\n",
    "        right = top\n",
    "    U[0] = U[1] = top\n",
    "    U[2] = U[3] = bottom\n",
    "    V[0] = V[3] = left\n",
    "    V[1] = V[2] = right\n",
    "    return generate_a_drawing(figsize, U, V, noise)\n",
    "\n",
    "def generate_a_rectangle_denoise(noise=0.0, free_location=False):\n",
    "    figsize = 1.0\n",
    "    U = np.zeros(4)\n",
    "    V = np.zeros(4)\n",
    "    if free_location:\n",
    "        corners = np.random.random(4)\n",
    "        top = max(corners[0], corners[1])\n",
    "        bottom = min(corners[0], corners[1])\n",
    "        left = min(corners[2], corners[3])\n",
    "        right = max(corners[2], corners[3])\n",
    "    else:\n",
    "        side = (0.3 + 0.7 * np.random.random()) * figsize\n",
    "        top = figsize / 2 + side / 2\n",
    "        bottom = figsize / 2 - side / 2\n",
    "        left = bottom\n",
    "        right = top\n",
    "    U[0] = U[1] = top\n",
    "    U[2] = U[3] = bottom\n",
    "    V[0] = V[3] = left\n",
    "    V[1] = V[2] = right\n",
    "    return generate_a_drawing_denoise(figsize, U, V, noise)\n",
    "\n",
    "\n",
    "def generate_a_disk(noise=0.0, free_location=False):\n",
    "    figsize = 1.0\n",
    "    if free_location:\n",
    "        center = np.random.random(2)\n",
    "    else:\n",
    "        center = (figsize/2, figsize/2)\n",
    "    radius = (0.3 + 0.7 * np.random.random()) * figsize/2\n",
    "    N = 50\n",
    "    U = np.zeros(N)\n",
    "    V = np.zeros(N)\n",
    "    i = 0\n",
    "    for t in np.linspace(0, 2*np.pi, N):\n",
    "        U[i] = center[0] + np.cos(t) * radius\n",
    "        V[i] = center[1] + np.sin(t) * radius\n",
    "        i = i + 1\n",
    "    return generate_a_drawing(figsize, U, V, noise)\n",
    "\n",
    "def generate_a_triangle(noise=0.0, free_location=False):\n",
    "    figsize = 1.0\n",
    "    if free_location:\n",
    "        U = np.random.random(3)\n",
    "        V = np.random.random(3)\n",
    "    else:\n",
    "        size = (0.3 + 0.7 * np.random.random())*figsize/2\n",
    "        middle = figsize/2\n",
    "        U = (middle, middle+size, middle-size)\n",
    "        V = (middle+size, middle-size, middle-size)\n",
    "    imdata = generate_a_drawing(figsize, U, V, noise)\n",
    "    return [imdata, [U[0], V[0], U[1], V[1], U[2], V[2]]]\n",
    "\n",
    "\n"
   ]
  },
  {
   "cell_type": "code",
   "execution_count": 3,
   "metadata": {},
   "outputs": [
    {
     "data": {
      "text/plain": [
       "<matplotlib.image.AxesImage at 0x1178a94d0>"
      ]
     },
     "execution_count": 3,
     "metadata": {},
     "output_type": "execute_result"
    },
    {
     "data": {
      "image/png": "[encoded data removed]",
      "text/plain": [
       "<Figure size 432x288 with 1 Axes>"
      ]
     },
     "metadata": {
      "needs_background": "light"
     },
     "output_type": "display_data"
    }
   ],
   "source": [
    "\n",
    "im = generate_a_rectangle(10, True)\n",
    "plt.imshow(im.reshape(IMAGE_SIZE,IMAGE_SIZE), cmap='gray')\n"
   ]
  },
  {
   "cell_type": "code",
   "execution_count": 4,
   "metadata": {},
   "outputs": [
    {
     "data": {
      "text/plain": [
       "<matplotlib.image.AxesImage at 0x117a9d650>"
      ]
     },
     "execution_count": 4,
     "metadata": {},
     "output_type": "execute_result"
    },
    {
     "data": {
      "image/png": "[encoded data removed]",
      "text/plain": [
       "<Figure size 432x288 with 1 Axes>"
      ]
     },
     "metadata": {
      "needs_background": "light"
     },
     "output_type": "display_data"
    }
   ],
   "source": [
    "\n",
    "im = generate_a_disk(10)\n",
    "plt.imshow(im.reshape(IMAGE_SIZE,IMAGE_SIZE), cmap='gray')\n"
   ]
  },
  {
   "cell_type": "code",
   "execution_count": 5,
   "metadata": {},
   "outputs": [
    {
     "data": {
      "text/plain": [
       "<matplotlib.image.AxesImage at 0x117b19cd0>"
      ]
     },
     "execution_count": 5,
     "metadata": {},
     "output_type": "execute_result"
    },
    {
     "data": {
      "image/png": "[encoded data removed]",
      "text/plain": [
       "<Figure size 432x288 with 1 Axes>"
      ]
     },
     "metadata": {
      "needs_background": "light"
     },
     "output_type": "display_data"
    }
   ],
   "source": [
    "\n",
    "[im, v] = generate_a_triangle(20, False)\n",
    "plt.imshow(im.reshape(IMAGE_SIZE,IMAGE_SIZE), cmap='gray')\n"
   ]
  },
  {
   "cell_type": "code",
   "execution_count": 6,
   "metadata": {},
   "outputs": [],
   "source": [
    "\n",
    "def generate_dataset_classification(nb_samples, noise=0.0, free_location=False):\n",
    "    # Getting im_size:\n",
    "    im_size = generate_a_rectangle().shape[0]\n",
    "    X = np.zeros([nb_samples,im_size])\n",
    "    Y = np.zeros(nb_samples)\n",
    "    print('Creating data:')\n",
    "    for i in range(nb_samples):\n",
    "        if i % 10 == 0:\n",
    "            print(i)\n",
    "        category = np.random.randint(3)\n",
    "        if category == 0:\n",
    "            X[i] = generate_a_rectangle(noise, free_location)\n",
    "        elif category == 1: \n",
    "            X[i] = generate_a_disk(noise, free_location)\n",
    "        else:\n",
    "            [X[i], V] = generate_a_triangle(noise, free_location)\n",
    "        Y[i] = category\n",
    "    X = (X + noise) / (255 + 2 * noise)\n",
    "    return [X, Y]\n",
    "\n",
    "def generate_test_set_classification():\n",
    "    np.random.seed(42)\n",
    "    [X_test, Y_test] = generate_dataset_classification(300, 20, True)\n",
    "    Y_test = to_categorical(Y_test, 3) \n",
    "    return [X_test, Y_test]\n",
    "\n",
    "def generate_dataset_regression(nb_samples, noise=0.0):\n",
    "    # Getting im_size:\n",
    "    im_size = generate_a_triangle()[0].shape[0]\n",
    "    X = np.zeros([nb_samples,im_size])\n",
    "    Y = np.zeros([nb_samples, 6])\n",
    "    print('Creating data:')\n",
    "    for i in range(nb_samples):\n",
    "        if i % 10 == 0:\n",
    "            print(i)\n",
    "        [X[i], Y[i]] = generate_a_triangle(noise, True)\n",
    "    X = (X + noise) / (255 + 2 * noise)\n",
    "    return [X, Y]"
   ]
  },
  {
   "cell_type": "code",
   "execution_count": 7,
   "metadata": {},
   "outputs": [],
   "source": [
    "import matplotlib.patches as patches\n"
   ]
  },
  {
   "cell_type": "code",
   "execution_count": 8,
   "metadata": {},
   "outputs": [],
   "source": [
    "def visualize_prediction(x, y):\n",
    "    fig, ax = plt.subplots(figsize=(5, 5))\n",
    "    I = x.reshape((IMAGE_SIZE,IMAGE_SIZE))\n",
    "    ax.imshow(I, extent=[-0.15,1.15,-0.15,1.15],cmap='gray')\n",
    "    ax.set_xlim([0,1])\n",
    "    ax.set_ylim([0,1])\n",
    "\n",
    "    xy = y.reshape(3,2)\n",
    "    tri = patches.Polygon(xy, closed=True, fill = False, edgecolor = 'r', linewidth = 5, alpha = 0.5)\n",
    "    ax.add_patch(tri)\n",
    "\n",
    "    plt.show()\n",
    "\n",
    "def generate_test_set_regression():\n",
    "    np.random.seed(42)\n",
    "    [X_test, Y_test] = generate_dataset_regression(300, 20)\n",
    "    return [X_test, Y_test]"
   ]
  },
  {
   "cell_type": "code",
   "execution_count": 9,
   "metadata": {},
   "outputs": [
    {
     "name": "stdout",
     "output_type": "stream",
     "text": [
      "Creating data:\n",
      "0\n",
      "10\n",
      "20\n",
      "30\n",
      "40\n",
      "50\n",
      "60\n",
      "70\n",
      "80\n",
      "90\n",
      "100\n",
      "110\n",
      "120\n",
      "130\n",
      "140\n",
      "150\n",
      "160\n",
      "170\n",
      "180\n",
      "190\n",
      "200\n",
      "210\n",
      "220\n",
      "230\n",
      "240\n",
      "250\n",
      "260\n",
      "270\n",
      "280\n",
      "290\n"
     ]
    }
   ],
   "source": [
    "[X_train, Y_train] = generate_dataset_classification(300, 20)"
   ]
  },
  {
   "cell_type": "code",
   "execution_count": 10,
   "metadata": {},
   "outputs": [
    {
     "data": {
      "text/plain": [
       "((300, 5184), (300,))"
      ]
     },
     "execution_count": 10,
     "metadata": {},
     "output_type": "execute_result"
    }
   ],
   "source": [
    "X_train.shape, Y_train.shape"
   ]
  },
  {
   "cell_type": "markdown",
   "metadata": {},
   "source": [
    "# 3. Simple Classification "
   ]
  },
  {
   "cell_type": "code",
   "execution_count": 11,
   "metadata": {},
   "outputs": [
    {
     "data": {
      "text/plain": [
       "5184"
      ]
     },
     "execution_count": 11,
     "metadata": {},
     "output_type": "execute_result"
    }
   ],
   "source": [
    "n_cols=X_train.shape[1]\n",
    "n_cols"
   ]
  },
  {
   "cell_type": "code",
   "execution_count": 12,
   "metadata": {},
   "outputs": [
    {
     "name": "stderr",
     "output_type": "stream",
     "text": [
      "Using TensorFlow backend.\n"
     ]
    }
   ],
   "source": [
    "# Import necessary modules\n",
    "\n",
    "from keras.layers import Dense, Activation\n",
    "from keras.models import Sequential\n",
    "from keras.utils import to_categorical, normalize\n",
    "from keras.optimizers import SGD\n",
    "from keras import optimizers\n",
    "\n"
   ]
  },
  {
   "cell_type": "markdown",
   "metadata": {},
   "source": [
    "with Stochastic gradient descent optimizer"
   ]
  },
  {
   "cell_type": "code",
   "execution_count": 13,
   "metadata": {},
   "outputs": [],
   "source": [
    "# Convert the Y_train to categorical: Y_train_cat\n",
    "Y_train_cat =to_categorical(Y_train)"
   ]
  },
  {
   "cell_type": "code",
   "execution_count": 14,
   "metadata": {},
   "outputs": [
    {
     "name": "stdout",
     "output_type": "stream",
     "text": [
      "Train on 240 samples, validate on 60 samples\n",
      "Epoch 1/15\n",
      "240/240 [==============================] - 0s 957us/step - loss: 1.0432 - acc: 0.4958 - val_loss: 1.1368 - val_acc: 0.5667\n",
      "Epoch 2/15\n",
      "240/240 [==============================] - 0s 180us/step - loss: 0.8118 - acc: 0.6750 - val_loss: 0.8013 - val_acc: 0.7833\n",
      "Epoch 3/15\n",
      "240/240 [==============================] - 0s 179us/step - loss: 0.7003 - acc: 0.7583 - val_loss: 0.7733 - val_acc: 0.6333\n",
      "Epoch 4/15\n",
      "240/240 [==============================] - 0s 178us/step - loss: 0.7073 - acc: 0.6750 - val_loss: 0.9200 - val_acc: 0.7333\n",
      "Epoch 5/15\n",
      "240/240 [==============================] - 0s 177us/step - loss: 0.6185 - acc: 0.8083 - val_loss: 0.6504 - val_acc: 0.8167\n",
      "Epoch 6/15\n",
      "240/240 [==============================] - 0s 180us/step - loss: 0.5634 - acc: 0.8250 - val_loss: 0.6442 - val_acc: 0.8167\n",
      "Epoch 7/15\n",
      "240/240 [==============================] - 0s 178us/step - loss: 0.5263 - acc: 0.8458 - val_loss: 0.6316 - val_acc: 0.8000\n",
      "Epoch 8/15\n",
      "240/240 [==============================] - 0s 179us/step - loss: 0.4855 - acc: 0.8500 - val_loss: 0.6308 - val_acc: 0.7833\n",
      "Epoch 9/15\n",
      "240/240 [==============================] - 0s 178us/step - loss: 0.4984 - acc: 0.8042 - val_loss: 0.5431 - val_acc: 0.7500\n",
      "Epoch 10/15\n",
      "240/240 [==============================] - 0s 180us/step - loss: 0.4850 - acc: 0.8375 - val_loss: 0.5126 - val_acc: 0.8333\n",
      "Epoch 11/15\n",
      "240/240 [==============================] - 0s 181us/step - loss: 0.4534 - acc: 0.8458 - val_loss: 0.5091 - val_acc: 0.8167\n",
      "Epoch 12/15\n",
      "240/240 [==============================] - 0s 180us/step - loss: 0.4644 - acc: 0.8125 - val_loss: 0.5359 - val_acc: 0.8333\n",
      "Epoch 13/15\n",
      "240/240 [==============================] - 0s 183us/step - loss: 0.4096 - acc: 0.8792 - val_loss: 0.4695 - val_acc: 0.8167\n",
      "Epoch 14/15\n",
      "240/240 [==============================] - 0s 181us/step - loss: 0.3842 - acc: 0.8917 - val_loss: 0.4580 - val_acc: 0.8167\n",
      "Epoch 15/15\n",
      "240/240 [==============================] - 0s 182us/step - loss: 0.4022 - acc: 0.8750 - val_loss: 0.4371 - val_acc: 0.8333\n"
     ]
    },
    {
     "data": {
      "text/plain": [
       "<keras.callbacks.History at 0x1191bfb90>"
      ]
     },
     "execution_count": 14,
     "metadata": {},
     "output_type": "execute_result"
    }
   ],
   "source": [
    "\n",
    "# Set up the model\n",
    "sgd_model = Sequential()\n",
    "sgd_model.add(Dense(3, kernel_initializer='uniform', input_shape=(n_cols,))) \n",
    "sgd_model.add(Activation('softmax'))\n",
    "\n",
    "sgd = SGD(lr=0.001,decay=1e-5, momentum=0.6,nesterov=True)\n",
    "sgd_model.compile(loss='categorical_crossentropy',optimizer=sgd, metrics=['accuracy'])\n",
    "sgd_model.fit(X_train, Y_train_cat, epochs=15, validation_split=0.2)\n"
   ]
  },
  {
   "cell_type": "code",
   "execution_count": 15,
   "metadata": {},
   "outputs": [
    {
     "data": {
      "text/plain": [
       "(300, 3)"
      ]
     },
     "execution_count": 15,
     "metadata": {},
     "output_type": "execute_result"
    }
   ],
   "source": [
    "Y_train_cat.shape"
   ]
  },
  {
   "cell_type": "markdown",
   "metadata": {},
   "source": [
    "the loss and accuracy metrics are displayed. This model reaches an accuracy of about 0.80 (or 80%) on the training data."
   ]
  },
  {
   "cell_type": "code",
   "execution_count": 16,
   "metadata": {},
   "outputs": [
    {
     "data": {
      "text/plain": [
       "array([[0., 1., 0.]], dtype=float32)"
      ]
     },
     "execution_count": 16,
     "metadata": {},
     "output_type": "execute_result"
    }
   ],
   "source": [
    "X_test = generate_a_disk()\n",
    "X_test = X_test.reshape(1, X_test.shape[0])\n",
    "sgd_model.predict(X_test)"
   ]
  },
  {
   "cell_type": "code",
   "execution_count": 17,
   "metadata": {},
   "outputs": [
    {
     "data": {
      "text/plain": [
       "1"
      ]
     },
     "execution_count": 17,
     "metadata": {},
     "output_type": "execute_result"
    }
   ],
   "source": [
    "predictions=sgd_model.predict(X_test)\n",
    "predictions[0]\n",
    "np.argmax(predictions[0])"
   ]
  },
  {
   "cell_type": "code",
   "execution_count": 18,
   "metadata": {},
   "outputs": [
    {
     "data": {
      "text/plain": [
       "array([0., 1., 0.], dtype=float32)"
      ]
     },
     "execution_count": 18,
     "metadata": {},
     "output_type": "execute_result"
    }
   ],
   "source": [
    "Y_train_cat[0]"
   ]
  },
  {
   "cell_type": "markdown",
   "metadata": {},
   "source": [
    "so we predict a 1 and the real value is 0 , so our prediction is not good"
   ]
  },
  {
   "cell_type": "markdown",
   "metadata": {},
   "source": [
    " with Adam optimizer"
   ]
  },
  {
   "cell_type": "code",
   "execution_count": 19,
   "metadata": {},
   "outputs": [
    {
     "name": "stdout",
     "output_type": "stream",
     "text": [
      "Train on 240 samples, validate on 60 samples\n",
      "Epoch 1/15\n",
      "240/240 [==============================] - 0s 1ms/step - loss: 1.5347 - acc: 0.5250 - val_loss: 0.9156 - val_acc: 0.5500\n",
      "Epoch 2/15\n",
      "240/240 [==============================] - 0s 194us/step - loss: 0.7980 - acc: 0.5750 - val_loss: 0.6980 - val_acc: 0.6500\n",
      "Epoch 3/15\n",
      "240/240 [==============================] - 0s 201us/step - loss: 0.5454 - acc: 0.7750 - val_loss: 0.4653 - val_acc: 0.8000\n",
      "Epoch 4/15\n",
      "240/240 [==============================] - 0s 204us/step - loss: 0.4438 - acc: 0.7875 - val_loss: 0.4014 - val_acc: 0.9167\n",
      "Epoch 5/15\n",
      "240/240 [==============================] - 0s 191us/step - loss: 0.4274 - acc: 0.8208 - val_loss: 0.5494 - val_acc: 0.6167\n",
      "Epoch 6/15\n",
      "240/240 [==============================] - 0s 195us/step - loss: 0.3792 - acc: 0.8292 - val_loss: 0.3874 - val_acc: 0.7667\n",
      "Epoch 7/15\n",
      "240/240 [==============================] - 0s 193us/step - loss: 0.3276 - acc: 0.8750 - val_loss: 0.2881 - val_acc: 0.9500\n",
      "Epoch 8/15\n",
      "240/240 [==============================] - 0s 194us/step - loss: 0.3544 - acc: 0.8375 - val_loss: 0.2924 - val_acc: 0.8500\n",
      "Epoch 9/15\n",
      "240/240 [==============================] - 0s 192us/step - loss: 0.2472 - acc: 0.9000 - val_loss: 0.2478 - val_acc: 0.8500\n",
      "Epoch 10/15\n",
      "240/240 [==============================] - 0s 194us/step - loss: 0.1756 - acc: 0.9917 - val_loss: 0.1989 - val_acc: 0.9833\n",
      "Epoch 11/15\n",
      "240/240 [==============================] - 0s 193us/step - loss: 0.1674 - acc: 0.9833 - val_loss: 0.2011 - val_acc: 0.9333\n",
      "Epoch 12/15\n",
      "240/240 [==============================] - 0s 192us/step - loss: 0.1501 - acc: 0.9917 - val_loss: 0.1705 - val_acc: 1.0000\n",
      "Epoch 13/15\n",
      "240/240 [==============================] - 0s 195us/step - loss: 0.1518 - acc: 0.9792 - val_loss: 0.1628 - val_acc: 1.0000\n",
      "Epoch 14/15\n",
      "240/240 [==============================] - 0s 226us/step - loss: 0.1423 - acc: 1.0000 - val_loss: 0.1665 - val_acc: 1.0000\n",
      "Epoch 15/15\n",
      "240/240 [==============================] - 0s 226us/step - loss: 0.1449 - acc: 0.9875 - val_loss: 0.1595 - val_acc: 1.0000\n"
     ]
    },
    {
     "data": {
      "text/plain": [
       "<keras.callbacks.History at 0x1191e4490>"
      ]
     },
     "execution_count": 19,
     "metadata": {},
     "output_type": "execute_result"
    }
   ],
   "source": [
    "adam_model = Sequential()\n",
    "adam_model.add(Dense(3, kernel_initializer='uniform', input_shape=(n_cols,))) \n",
    "adam_model.add(Activation('softmax'))  \n",
    "\n",
    "adam_model.compile(optimizer='adam', \n",
    "           loss='categorical_crossentropy', \n",
    "            metrics=['accuracy'])\n",
    "adam_model.fit(X_train, Y_train_cat,batch_size=32,epochs=15,validation_split=0.2)\n"
   ]
  },
  {
   "cell_type": "code",
   "execution_count": 20,
   "metadata": {},
   "outputs": [
    {
     "data": {
      "text/plain": [
       "array([[0., 1., 0.]], dtype=float32)"
      ]
     },
     "execution_count": 20,
     "metadata": {},
     "output_type": "execute_result"
    }
   ],
   "source": [
    "\n",
    "X_test = generate_a_disk()\n",
    "X_test = X_test.reshape(1, X_test.shape[0])\n",
    "adam_model.predict(X_test)\n"
   ]
  },
  {
   "cell_type": "code",
   "execution_count": 21,
   "metadata": {},
   "outputs": [
    {
     "data": {
      "text/plain": [
       "1"
      ]
     },
     "execution_count": 21,
     "metadata": {},
     "output_type": "execute_result"
    }
   ],
   "source": [
    "predictions=adam_model.predict(X_test)\n",
    "predictions[0]\n",
    "np.argmax(predictions[0])"
   ]
  },
  {
   "cell_type": "code",
   "execution_count": 22,
   "metadata": {},
   "outputs": [
    {
     "data": {
      "text/plain": [
       "array([0., 1., 0.], dtype=float32)"
      ]
     },
     "execution_count": 22,
     "metadata": {},
     "output_type": "execute_result"
    }
   ],
   "source": [
    "Y_train_cat[0]\n"
   ]
  },
  {
   "cell_type": "markdown",
   "metadata": {},
   "source": [
    "So we predict a 0 and the real value was a 0 so we have a good fit here."
   ]
  },
  {
   "cell_type": "markdown",
   "metadata": {},
   "source": [
    "# 4. Vizualization"
   ]
  },
  {
   "cell_type": "code",
   "execution_count": 23,
   "metadata": {},
   "outputs": [
    {
     "data": {
      "text/plain": [
       "[array([[-0.01615368, -0.00113959,  0.01106452],\n",
       "        [-0.02491903,  0.03842891, -0.02823867],\n",
       "        [-0.03508437, -0.0453844 ,  0.0140299 ],\n",
       "        ...,\n",
       "        [ 0.011329  ,  0.01136589, -0.04674846],\n",
       "        [ 0.01054669, -0.04945471, -0.00435031],\n",
       "        [ 0.00294356, -0.018515  ,  0.01207202]], dtype=float32),\n",
       " array([ 1.6247755e-03, -5.8650745e-05, -5.3321326e-04], dtype=float32)]"
      ]
     },
     "execution_count": 23,
     "metadata": {},
     "output_type": "execute_result"
    }
   ],
   "source": [
    "adam_model.get_weights()"
   ]
  },
  {
   "cell_type": "code",
   "execution_count": 24,
   "metadata": {},
   "outputs": [],
   "source": [
    "adam_Viz=adam_model.get_weights()[0]\n",
    "im1=adam_Viz[:,0]\n",
    "im2=adam_Viz[:,1]\n",
    "im3=adam_Viz[:,2]"
   ]
  },
  {
   "cell_type": "code",
   "execution_count": 25,
   "metadata": {},
   "outputs": [
    {
     "data": {
      "text/plain": [
       "<matplotlib.image.AxesImage at 0x119a61310>"
      ]
     },
     "execution_count": 25,
     "metadata": {},
     "output_type": "execute_result"
    },
    {
     "data": {
      "image/png": "[encoded data removed]",
      "text/plain": [
       "<Figure size 432x288 with 1 Axes>"
      ]
     },
     "metadata": {
      "needs_background": "light"
     },
     "output_type": "display_data"
    }
   ],
   "source": [
    "plt.imshow(im1.reshape(IMAGE_SIZE, IMAGE_SIZE), cmap='gray')"
   ]
  },
  {
   "cell_type": "code",
   "execution_count": 26,
   "metadata": {},
   "outputs": [
    {
     "data": {
      "text/plain": [
       "<matplotlib.image.AxesImage at 0x119bf8790>"
      ]
     },
     "execution_count": 26,
     "metadata": {},
     "output_type": "execute_result"
    },
    {
     "data": {
      "image/png": "[encoded data removed]",
      "text/plain": [
       "<Figure size 432x288 with 1 Axes>"
      ]
     },
     "metadata": {
      "needs_background": "light"
     },
     "output_type": "display_data"
    }
   ],
   "source": [
    "plt.imshow(im2.reshape(IMAGE_SIZE, IMAGE_SIZE), cmap='gray')\n"
   ]
  },
  {
   "cell_type": "code",
   "execution_count": 27,
   "metadata": {},
   "outputs": [
    {
     "data": {
      "text/plain": [
       "<matplotlib.image.AxesImage at 0x119c65c10>"
      ]
     },
     "execution_count": 27,
     "metadata": {},
     "output_type": "execute_result"
    },
    {
     "data": {
      "image/png": "[encoded data removed]",
      "text/plain": [
       "<Figure size 432x288 with 1 Axes>"
      ]
     },
     "metadata": {
      "needs_background": "light"
     },
     "output_type": "display_data"
    }
   ],
   "source": [
    "plt.imshow(im3.reshape(IMAGE_SIZE, IMAGE_SIZE), cmap='gray')"
   ]
  },
  {
   "cell_type": "code",
   "execution_count": 28,
   "metadata": {},
   "outputs": [
    {
     "data": {
      "text/plain": [
       "[array([[ 0.03724766,  0.01924447,  0.02477845],\n",
       "        [ 0.00645842,  0.04888671,  0.02200105],\n",
       "        [ 0.01196199,  0.03652655, -0.04053261],\n",
       "        ...,\n",
       "        [-0.01359534, -0.03810437,  0.00933933],\n",
       "        [ 0.01580741, -0.0411742 ,  0.01690636],\n",
       "        [ 0.01901834,  0.03860384,  0.015507  ]], dtype=float32),\n",
       " array([ 0.00060897, -0.00042909, -0.00017988], dtype=float32)]"
      ]
     },
     "execution_count": 28,
     "metadata": {},
     "output_type": "execute_result"
    }
   ],
   "source": [
    "sgd_model.get_weights()"
   ]
  },
  {
   "cell_type": "code",
   "execution_count": 29,
   "metadata": {},
   "outputs": [],
   "source": [
    "sgd_Viz=sgd_model.get_weights()[0]\n",
    "im1=sgd_Viz[:,0]\n",
    "im2=sgd_Viz[:,1]\n",
    "im3=sgd_Viz[:,2]\n"
   ]
  },
  {
   "cell_type": "code",
   "execution_count": 30,
   "metadata": {},
   "outputs": [
    {
     "data": {
      "text/plain": [
       "<matplotlib.image.AxesImage at 0x119d990d0>"
      ]
     },
     "execution_count": 30,
     "metadata": {},
     "output_type": "execute_result"
    },
    {
     "data": {
      "image/png": "[encoded data removed]",
      "text/plain": [
       "<Figure size 432x288 with 1 Axes>"
      ]
     },
     "metadata": {
      "needs_background": "light"
     },
     "output_type": "display_data"
    }
   ],
   "source": [
    "plt.imshow(im1.reshape(IMAGE_SIZE, IMAGE_SIZE), cmap='gray')\n"
   ]
  },
  {
   "cell_type": "code",
   "execution_count": 31,
   "metadata": {},
   "outputs": [
    {
     "data": {
      "text/plain": [
       "<matplotlib.image.AxesImage at 0x119e82550>"
      ]
     },
     "execution_count": 31,
     "metadata": {},
     "output_type": "execute_result"
    },
    {
     "data": {
      "image/png": "[encoded data removed]",
      "text/plain": [
       "<Figure size 432x288 with 1 Axes>"
      ]
     },
     "metadata": {
      "needs_background": "light"
     },
     "output_type": "display_data"
    }
   ],
   "source": [
    "plt.imshow(im2.reshape(IMAGE_SIZE, IMAGE_SIZE), cmap='gray')\n"
   ]
  },
  {
   "cell_type": "code",
   "execution_count": 32,
   "metadata": {},
   "outputs": [
    {
     "data": {
      "text/plain": [
       "<matplotlib.image.AxesImage at 0x119f2e9d0>"
      ]
     },
     "execution_count": 32,
     "metadata": {},
     "output_type": "execute_result"
    },
    {
     "data": {
      "image/png": "[encoded data removed]",
      "text/plain": [
       "<Figure size 432x288 with 1 Axes>"
      ]
     },
     "metadata": {
      "needs_background": "light"
     },
     "output_type": "display_data"
    }
   ],
   "source": [
    "plt.imshow(im3.reshape(IMAGE_SIZE, IMAGE_SIZE), cmap='gray')"
   ]
  },
  {
   "cell_type": "markdown",
   "metadata": {},
   "source": [
    "# 5. A More Difficult Classification Problem"
   ]
  },
  {
   "cell_type": "code",
   "execution_count": 33,
   "metadata": {},
   "outputs": [
    {
     "name": "stdout",
     "output_type": "stream",
     "text": [
      "Creating data:\n",
      "0\n",
      "10\n",
      "20\n",
      "30\n",
      "40\n",
      "50\n",
      "60\n",
      "70\n",
      "80\n",
      "90\n",
      "100\n",
      "110\n",
      "120\n",
      "130\n",
      "140\n",
      "150\n",
      "160\n",
      "170\n",
      "180\n",
      "190\n",
      "200\n",
      "210\n",
      "220\n",
      "230\n",
      "240\n",
      "250\n",
      "260\n",
      "270\n",
      "280\n",
      "290\n"
     ]
    }
   ],
   "source": [
    "[X_train, Y_train] = generate_dataset_classification(300, 20, True)\n",
    "Y_train_cat2=to_categorical(Y_train)"
   ]
  },
  {
   "cell_type": "code",
   "execution_count": 34,
   "metadata": {},
   "outputs": [
    {
     "data": {
      "text/plain": [
       "((300, 5184), (300, 3))"
      ]
     },
     "execution_count": 34,
     "metadata": {},
     "output_type": "execute_result"
    }
   ],
   "source": [
    "X_train.shape, Y_train_cat2.shape"
   ]
  },
  {
   "cell_type": "code",
   "execution_count": 35,
   "metadata": {},
   "outputs": [
    {
     "name": "stdout",
     "output_type": "stream",
     "text": [
      "Train on 240 samples, validate on 60 samples\n",
      "Epoch 1/20\n",
      "240/240 [==============================] - 0s 227us/step - loss: 1.4266 - acc: 0.3792 - val_loss: 1.4186 - val_acc: 0.3667\n",
      "Epoch 2/20\n",
      "240/240 [==============================] - 0s 200us/step - loss: 1.5171 - acc: 0.3542 - val_loss: 1.6280 - val_acc: 0.4000\n",
      "Epoch 3/20\n",
      "240/240 [==============================] - 0s 200us/step - loss: 1.3751 - acc: 0.4292 - val_loss: 1.3766 - val_acc: 0.4500\n",
      "Epoch 4/20\n",
      "240/240 [==============================] - 0s 195us/step - loss: 1.2413 - acc: 0.4292 - val_loss: 1.6713 - val_acc: 0.5000\n",
      "Epoch 5/20\n",
      "240/240 [==============================] - 0s 209us/step - loss: 1.2829 - acc: 0.4167 - val_loss: 1.1220 - val_acc: 0.4000\n",
      "Epoch 6/20\n",
      "240/240 [==============================] - 0s 195us/step - loss: 1.1355 - acc: 0.4583 - val_loss: 1.4924 - val_acc: 0.4167\n",
      "Epoch 7/20\n",
      "240/240 [==============================] - 0s 184us/step - loss: 1.1409 - acc: 0.4833 - val_loss: 1.1409 - val_acc: 0.3833\n",
      "Epoch 8/20\n",
      "240/240 [==============================] - 0s 176us/step - loss: 1.1931 - acc: 0.5000 - val_loss: 1.3548 - val_acc: 0.3333\n",
      "Epoch 9/20\n",
      "240/240 [==============================] - 0s 176us/step - loss: 1.0012 - acc: 0.5042 - val_loss: 1.1345 - val_acc: 0.4667\n",
      "Epoch 10/20\n",
      "240/240 [==============================] - 0s 175us/step - loss: 1.0354 - acc: 0.4875 - val_loss: 1.2875 - val_acc: 0.3333\n",
      "Epoch 11/20\n",
      "240/240 [==============================] - 0s 176us/step - loss: 0.9402 - acc: 0.5208 - val_loss: 0.9451 - val_acc: 0.6000\n",
      "Epoch 12/20\n",
      "240/240 [==============================] - 0s 177us/step - loss: 0.8852 - acc: 0.6125 - val_loss: 0.9989 - val_acc: 0.5667\n",
      "Epoch 13/20\n",
      "240/240 [==============================] - 0s 175us/step - loss: 0.8575 - acc: 0.5917 - val_loss: 1.3013 - val_acc: 0.4833\n",
      "Epoch 14/20\n",
      "240/240 [==============================] - 0s 176us/step - loss: 0.9776 - acc: 0.5500 - val_loss: 0.9453 - val_acc: 0.5167\n",
      "Epoch 15/20\n",
      "240/240 [==============================] - 0s 175us/step - loss: 1.0173 - acc: 0.5292 - val_loss: 1.1132 - val_acc: 0.4833\n",
      "Epoch 16/20\n",
      "240/240 [==============================] - 0s 175us/step - loss: 1.0490 - acc: 0.5208 - val_loss: 1.3885 - val_acc: 0.5500\n",
      "Epoch 17/20\n",
      "240/240 [==============================] - 0s 175us/step - loss: 1.1297 - acc: 0.5250 - val_loss: 1.0720 - val_acc: 0.5500\n",
      "Epoch 18/20\n",
      "240/240 [==============================] - 0s 180us/step - loss: 0.8564 - acc: 0.6083 - val_loss: 0.9362 - val_acc: 0.6000\n",
      "Epoch 19/20\n",
      "240/240 [==============================] - 0s 179us/step - loss: 0.8292 - acc: 0.5833 - val_loss: 0.9142 - val_acc: 0.5667\n",
      "Epoch 20/20\n",
      "240/240 [==============================] - 0s 178us/step - loss: 0.8446 - acc: 0.6333 - val_loss: 0.8792 - val_acc: 0.5833\n"
     ]
    },
    {
     "data": {
      "text/plain": [
       "<keras.callbacks.History at 0xb3803ca90>"
      ]
     },
     "execution_count": 35,
     "metadata": {},
     "output_type": "execute_result"
    }
   ],
   "source": [
    "sgd_model.fit(X_train, Y_train_cat2, epochs=20, validation_split=0.2)\n"
   ]
  },
  {
   "cell_type": "code",
   "execution_count": 36,
   "metadata": {},
   "outputs": [
    {
     "name": "stdout",
     "output_type": "stream",
     "text": [
      "Train on 240 samples, validate on 60 samples\n",
      "Epoch 1/25\n",
      "240/240 [==============================] - 0s 218us/step - loss: 2.0670 - acc: 0.3875 - val_loss: 2.2392 - val_acc: 0.5000\n",
      "Epoch 2/25\n",
      "240/240 [==============================] - 0s 197us/step - loss: 1.9358 - acc: 0.3875 - val_loss: 1.3652 - val_acc: 0.4667\n",
      "Epoch 3/25\n",
      "240/240 [==============================] - 0s 195us/step - loss: 1.3604 - acc: 0.4500 - val_loss: 1.3863 - val_acc: 0.3000\n",
      "Epoch 4/25\n",
      "240/240 [==============================] - 0s 197us/step - loss: 1.3168 - acc: 0.4250 - val_loss: 1.0870 - val_acc: 0.5333\n",
      "Epoch 5/25\n",
      "240/240 [==============================] - 0s 200us/step - loss: 1.2544 - acc: 0.5042 - val_loss: 1.2206 - val_acc: 0.5333\n",
      "Epoch 6/25\n",
      "240/240 [==============================] - 0s 204us/step - loss: 1.0381 - acc: 0.5208 - val_loss: 1.0895 - val_acc: 0.5167\n",
      "Epoch 7/25\n",
      "240/240 [==============================] - 0s 193us/step - loss: 0.8751 - acc: 0.5875 - val_loss: 1.1011 - val_acc: 0.5167\n",
      "Epoch 8/25\n",
      "240/240 [==============================] - 0s 195us/step - loss: 0.9660 - acc: 0.5958 - val_loss: 0.9802 - val_acc: 0.5667\n",
      "Epoch 9/25\n",
      "240/240 [==============================] - 0s 193us/step - loss: 0.8062 - acc: 0.5917 - val_loss: 1.1885 - val_acc: 0.4333\n",
      "Epoch 10/25\n",
      "240/240 [==============================] - 0s 195us/step - loss: 0.8829 - acc: 0.6042 - val_loss: 0.9746 - val_acc: 0.5667\n",
      "Epoch 11/25\n",
      "240/240 [==============================] - 0s 192us/step - loss: 0.9289 - acc: 0.5750 - val_loss: 1.1930 - val_acc: 0.5667\n",
      "Epoch 12/25\n",
      "240/240 [==============================] - 0s 195us/step - loss: 0.9286 - acc: 0.5708 - val_loss: 0.9556 - val_acc: 0.6000\n",
      "Epoch 13/25\n",
      "240/240 [==============================] - 0s 195us/step - loss: 0.8308 - acc: 0.6250 - val_loss: 0.8063 - val_acc: 0.6333\n",
      "Epoch 14/25\n",
      "240/240 [==============================] - 0s 192us/step - loss: 0.7912 - acc: 0.6375 - val_loss: 0.8878 - val_acc: 0.6167\n",
      "Epoch 15/25\n",
      "240/240 [==============================] - 0s 190us/step - loss: 0.8396 - acc: 0.6000 - val_loss: 0.8813 - val_acc: 0.6167\n",
      "Epoch 16/25\n",
      "240/240 [==============================] - 0s 191us/step - loss: 0.7689 - acc: 0.6500 - val_loss: 1.0380 - val_acc: 0.4333\n",
      "Epoch 17/25\n",
      "240/240 [==============================] - 0s 191us/step - loss: 0.7520 - acc: 0.6125 - val_loss: 1.1668 - val_acc: 0.5500\n",
      "Epoch 18/25\n",
      "240/240 [==============================] - 0s 190us/step - loss: 0.7489 - acc: 0.6750 - val_loss: 1.0614 - val_acc: 0.4833\n",
      "Epoch 19/25\n",
      "240/240 [==============================] - 0s 190us/step - loss: 0.7779 - acc: 0.6125 - val_loss: 0.8359 - val_acc: 0.5833\n",
      "Epoch 20/25\n",
      "240/240 [==============================] - 0s 189us/step - loss: 0.8494 - acc: 0.6333 - val_loss: 0.9116 - val_acc: 0.5833\n",
      "Epoch 21/25\n",
      "240/240 [==============================] - 0s 190us/step - loss: 0.7555 - acc: 0.6833 - val_loss: 0.9913 - val_acc: 0.6500\n",
      "Epoch 22/25\n",
      "240/240 [==============================] - 0s 190us/step - loss: 0.8155 - acc: 0.6500 - val_loss: 0.8622 - val_acc: 0.6167\n",
      "Epoch 23/25\n",
      "240/240 [==============================] - 0s 191us/step - loss: 0.7478 - acc: 0.6708 - val_loss: 0.8742 - val_acc: 0.5500\n",
      "Epoch 24/25\n",
      "240/240 [==============================] - 0s 190us/step - loss: 0.6848 - acc: 0.6958 - val_loss: 0.8840 - val_acc: 0.5667\n",
      "Epoch 25/25\n",
      "240/240 [==============================] - 0s 199us/step - loss: 0.6670 - acc: 0.7083 - val_loss: 0.7684 - val_acc: 0.6167\n"
     ]
    },
    {
     "data": {
      "text/plain": [
       "<keras.callbacks.History at 0xb38056f10>"
      ]
     },
     "execution_count": 36,
     "metadata": {},
     "output_type": "execute_result"
    }
   ],
   "source": [
    "adam_model.fit(X_train, Y_train_cat2, batch_size=32, epochs=25, validation_split=0.2)\n"
   ]
  },
  {
   "cell_type": "markdown",
   "metadata": {},
   "source": [
    "evaluate our classifier on this test"
   ]
  },
  {
   "cell_type": "code",
   "execution_count": 37,
   "metadata": {},
   "outputs": [
    {
     "name": "stdout",
     "output_type": "stream",
     "text": [
      "Creating data:\n",
      "0\n",
      "10\n",
      "20\n",
      "30\n",
      "40\n",
      "50\n",
      "60\n",
      "70\n",
      "80\n",
      "90\n",
      "100\n",
      "110\n",
      "120\n",
      "130\n",
      "140\n",
      "150\n",
      "160\n",
      "170\n",
      "180\n",
      "190\n",
      "200\n",
      "210\n",
      "220\n",
      "230\n",
      "240\n",
      "250\n",
      "260\n",
      "270\n",
      "280\n",
      "290\n"
     ]
    }
   ],
   "source": [
    "[X_test, Y_test] = generate_test_set_classification()"
   ]
  },
  {
   "cell_type": "code",
   "execution_count": 38,
   "metadata": {},
   "outputs": [
    {
     "data": {
      "text/plain": [
       "((300, 5184), (300, 3))"
      ]
     },
     "execution_count": 38,
     "metadata": {},
     "output_type": "execute_result"
    }
   ],
   "source": [
    "X_test.shape, Y_test.shape"
   ]
  },
  {
   "cell_type": "code",
   "execution_count": 39,
   "metadata": {},
   "outputs": [
    {
     "name": "stdout",
     "output_type": "stream",
     "text": [
      "300/300 [==============================] - 0s 110us/step\n"
     ]
    },
    {
     "data": {
      "text/plain": [
       "[0.944938637415568, 0.5566666666666666]"
      ]
     },
     "execution_count": 39,
     "metadata": {},
     "output_type": "execute_result"
    }
   ],
   "source": [
    "sgd_model.evaluate(X_test, Y_test)\n"
   ]
  },
  {
   "cell_type": "markdown",
   "metadata": {},
   "source": [
    "0.55% our model is not accurate "
   ]
  },
  {
   "cell_type": "code",
   "execution_count": 40,
   "metadata": {},
   "outputs": [
    {
     "name": "stdout",
     "output_type": "stream",
     "text": [
      "300/300 [==============================] - 0s 98us/step\n"
     ]
    },
    {
     "data": {
      "text/plain": [
       "[0.9222819542884827, 0.5999999992052714]"
      ]
     },
     "execution_count": 40,
     "metadata": {},
     "output_type": "execute_result"
    }
   ],
   "source": [
    "adam_model.evaluate(X_test, Y_test)\n"
   ]
  },
  {
   "cell_type": "markdown",
   "metadata": {},
   "source": [
    "Reshape X_train"
   ]
  },
  {
   "cell_type": "code",
   "execution_count": 41,
   "metadata": {},
   "outputs": [],
   "source": [
    "X_train_rs = X_train.reshape(X_train.shape[0], 72, 72, 1) # 72*72= n_cols"
   ]
  },
  {
   "cell_type": "code",
   "execution_count": 42,
   "metadata": {},
   "outputs": [
    {
     "data": {
      "text/plain": [
       "((300, 72, 72, 1), (300, 3))"
      ]
     },
     "execution_count": 42,
     "metadata": {},
     "output_type": "execute_result"
    }
   ],
   "source": [
    "X_train_rs.shape, Y_train_cat2.shape"
   ]
  },
  {
   "cell_type": "code",
   "execution_count": 43,
   "metadata": {},
   "outputs": [],
   "source": [
    "from keras.layers import Conv2D, MaxPooling2D\n",
    "from keras.layers import Flatten \n",
    "from keras.layers import Dropout\n",
    "\n",
    "sgd_model2 = Sequential()\n",
    "sgd_model2.add(Conv2D(16,(5,5), input_shape=(72,72,1))) # 72*72= n_cols\n",
    "sgd_model2.add(Activation('relu'))\n",
    "sgd_model2.add(MaxPooling2D(pool_size=(2,2)))\n",
    "sgd_model2.add(Flatten())\n",
    "sgd_model2.add(Dense(64, activation='relu'))\n",
    "sgd_model2.add(Dense(3, activation='softmax'))\n"
   ]
  },
  {
   "cell_type": "code",
   "execution_count": 44,
   "metadata": {},
   "outputs": [],
   "source": [
    "adam_model2 = Sequential()\n",
    "adam_model2.add(Conv2D(16,(5,5), input_shape=(72,72,1))) # 72*72= n_cols\n",
    "adam_model2.add(Activation('relu'))\n",
    "adam_model2.add(MaxPooling2D(pool_size=(2,2)))\n",
    "adam_model2.add(Flatten())\n",
    "adam_model2.add(Dense(64, activation='relu'))\n",
    "adam_model2.add(Dense(3, activation='softmax'))\n"
   ]
  },
  {
   "cell_type": "code",
   "execution_count": 45,
   "metadata": {},
   "outputs": [],
   "source": [
    "#Model with gradient Descent optimizer:           \n",
    "sgd_model2.compile(loss='categorical_crossentropy', optimizer=sgd, metrics = ['accuracy'])\n",
    "#Model with Adam optimizer:\n",
    "adam_model2.compile(loss='categorical_crossentropy', optimizer='adam', metrics = ['accuracy'])"
   ]
  },
  {
   "cell_type": "code",
   "execution_count": 46,
   "metadata": {},
   "outputs": [
    {
     "name": "stdout",
     "output_type": "stream",
     "text": [
      "Train on 240 samples, validate on 60 samples\n",
      "Epoch 1/10\n",
      "240/240 [==============================] - 4s 18ms/step - loss: 1.2597 - acc: 0.3625 - val_loss: 1.0951 - val_acc: 0.2667\n",
      "Epoch 2/10\n",
      "240/240 [==============================] - 3s 14ms/step - loss: 1.1226 - acc: 0.3125 - val_loss: 1.1329 - val_acc: 0.2667\n",
      "Epoch 3/10\n",
      "240/240 [==============================] - 3s 14ms/step - loss: 1.0566 - acc: 0.3333 - val_loss: 1.0020 - val_acc: 0.4833\n",
      "Epoch 4/10\n",
      "240/240 [==============================] - 3s 14ms/step - loss: 0.9538 - acc: 0.7000 - val_loss: 0.9349 - val_acc: 0.6167\n",
      "Epoch 5/10\n",
      "240/240 [==============================] - 3s 14ms/step - loss: 0.9204 - acc: 0.6000 - val_loss: 0.9129 - val_acc: 0.6167\n",
      "Epoch 6/10\n",
      "240/240 [==============================] - 3s 14ms/step - loss: 0.8781 - acc: 0.6208 - val_loss: 0.8980 - val_acc: 0.6333\n",
      "Epoch 7/10\n",
      "240/240 [==============================] - 3s 14ms/step - loss: 0.8620 - acc: 0.6292 - val_loss: 0.8683 - val_acc: 0.6500\n",
      "Epoch 8/10\n",
      "240/240 [==============================] - 3s 14ms/step - loss: 0.7923 - acc: 0.6375 - val_loss: 0.8433 - val_acc: 0.6167\n",
      "Epoch 9/10\n",
      "240/240 [==============================] - 3s 14ms/step - loss: 0.7507 - acc: 0.6708 - val_loss: 0.8156 - val_acc: 0.6833\n",
      "Epoch 10/10\n",
      "240/240 [==============================] - 3s 14ms/step - loss: 0.6953 - acc: 0.7500 - val_loss: 0.7969 - val_acc: 0.6333\n"
     ]
    },
    {
     "data": {
      "text/plain": [
       "<keras.callbacks.History at 0xb36d11110>"
      ]
     },
     "execution_count": 46,
     "metadata": {},
     "output_type": "execute_result"
    }
   ],
   "source": [
    "adam_model2.fit(X_train_rs, Y_train_cat2, batch_size = 100, epochs = 10,validation_split=0.2)\n"
   ]
  },
  {
   "cell_type": "code",
   "execution_count": 47,
   "metadata": {},
   "outputs": [
    {
     "name": "stdout",
     "output_type": "stream",
     "text": [
      "Train on 240 samples, validate on 60 samples\n",
      "Epoch 1/10\n",
      "240/240 [==============================] - 4s 15ms/step - loss: 1.1115 - acc: 0.2542 - val_loss: 1.0888 - val_acc: 0.4333\n",
      "Epoch 2/10\n",
      "240/240 [==============================] - 3s 13ms/step - loss: 1.0949 - acc: 0.3625 - val_loss: 1.0776 - val_acc: 0.4333\n",
      "Epoch 3/10\n",
      "240/240 [==============================] - 3s 13ms/step - loss: 1.0911 - acc: 0.3875 - val_loss: 1.0718 - val_acc: 0.4333\n",
      "Epoch 4/10\n",
      "240/240 [==============================] - 3s 13ms/step - loss: 1.0872 - acc: 0.3792 - val_loss: 1.0708 - val_acc: 0.4333\n",
      "Epoch 5/10\n",
      "240/240 [==============================] - 3s 14ms/step - loss: 1.0834 - acc: 0.3917 - val_loss: 1.0700 - val_acc: 0.4833\n",
      "Epoch 6/10\n",
      "240/240 [==============================] - 3s 13ms/step - loss: 1.0812 - acc: 0.4125 - val_loss: 1.0664 - val_acc: 0.4500\n",
      "Epoch 7/10\n",
      "240/240 [==============================] - 3s 13ms/step - loss: 1.0788 - acc: 0.4167 - val_loss: 1.0650 - val_acc: 0.4667\n",
      "Epoch 8/10\n",
      "240/240 [==============================] - 3s 13ms/step - loss: 1.0762 - acc: 0.4333 - val_loss: 1.0617 - val_acc: 0.4500\n",
      "Epoch 9/10\n",
      "240/240 [==============================] - 3s 13ms/step - loss: 1.0746 - acc: 0.4042 - val_loss: 1.0623 - val_acc: 0.4833\n",
      "Epoch 10/10\n",
      "240/240 [==============================] - 3s 13ms/step - loss: 1.0743 - acc: 0.4500 - val_loss: 1.0585 - val_acc: 0.4667\n"
     ]
    },
    {
     "data": {
      "text/plain": [
       "<keras.callbacks.History at 0xb36cff610>"
      ]
     },
     "execution_count": 47,
     "metadata": {},
     "output_type": "execute_result"
    }
   ],
   "source": [
    "sgd_model2.fit(X_train_rs, Y_train_cat2, batch_size = 100, epochs = 10, validation_split=0.2)\n"
   ]
  },
  {
   "cell_type": "code",
   "execution_count": 48,
   "metadata": {},
   "outputs": [
    {
     "name": "stdout",
     "output_type": "stream",
     "text": [
      "300/300 [==============================] - 2s 6ms/step\n"
     ]
    },
    {
     "data": {
      "text/plain": [
       "[1.0674328311284382, 0.43666666666666665]"
      ]
     },
     "execution_count": 48,
     "metadata": {},
     "output_type": "execute_result"
    }
   ],
   "source": [
    "sgd_model2.evaluate(X_train_rs, Y_train_cat2)\n"
   ]
  },
  {
   "cell_type": "code",
   "execution_count": 49,
   "metadata": {},
   "outputs": [
    {
     "name": "stdout",
     "output_type": "stream",
     "text": [
      "300/300 [==============================] - 2s 5ms/step\n"
     ]
    },
    {
     "data": {
      "text/plain": [
       "[1.0816040738423665, 0.3666666658719381]"
      ]
     },
     "execution_count": 49,
     "metadata": {},
     "output_type": "execute_result"
    }
   ],
   "source": [
    "sgd_model2.evaluate(X_test.reshape(X_test.shape[0], 72, 72, 1), Y_test)\n"
   ]
  },
  {
   "cell_type": "code",
   "execution_count": 50,
   "metadata": {},
   "outputs": [
    {
     "name": "stdout",
     "output_type": "stream",
     "text": [
      "300/300 [==============================] - 2s 5ms/step\n"
     ]
    },
    {
     "data": {
      "text/plain": [
       "[0.68059330701828, 0.7599999992052714]"
      ]
     },
     "execution_count": 50,
     "metadata": {},
     "output_type": "execute_result"
    }
   ],
   "source": [
    "adam_model2.evaluate(X_train_rs, Y_train_cat2)\n"
   ]
  },
  {
   "cell_type": "code",
   "execution_count": 51,
   "metadata": {},
   "outputs": [
    {
     "name": "stdout",
     "output_type": "stream",
     "text": [
      "300/300 [==============================] - 2s 5ms/step\n"
     ]
    },
    {
     "data": {
      "text/plain": [
       "[0.8162846604983012, 0.6433333333333333]"
      ]
     },
     "execution_count": 51,
     "metadata": {},
     "output_type": "execute_result"
    }
   ],
   "source": [
    "adam_model2.evaluate(X_test.reshape(X_test.shape[0], 72, 72, 1), Y_test)\n"
   ]
  },
  {
   "cell_type": "markdown",
   "metadata": {},
   "source": [
    "good accuracy for the second model "
   ]
  },
  {
   "cell_type": "markdown",
   "metadata": {},
   "source": [
    "# 6. Regression Problem"
   ]
  },
  {
   "cell_type": "code",
   "execution_count": 52,
   "metadata": {},
   "outputs": [
    {
     "name": "stdout",
     "output_type": "stream",
     "text": [
      "Creating data:\n",
      "0\n",
      "10\n",
      "20\n",
      "30\n",
      "40\n",
      "50\n",
      "60\n",
      "70\n",
      "80\n",
      "90\n",
      "100\n",
      "110\n",
      "120\n",
      "130\n",
      "140\n",
      "150\n",
      "160\n",
      "170\n",
      "180\n",
      "190\n",
      "200\n",
      "210\n",
      "220\n",
      "230\n",
      "240\n",
      "250\n",
      "260\n",
      "270\n",
      "280\n",
      "290\n"
     ]
    }
   ],
   "source": [
    "[X_train, Y_train] = generate_dataset_regression(300, 20)"
   ]
  },
  {
   "cell_type": "code",
   "execution_count": 53,
   "metadata": {},
   "outputs": [
    {
     "name": "stdout",
     "output_type": "stream",
     "text": [
      "Creating data:\n",
      "0\n",
      "10\n",
      "20\n",
      "30\n",
      "40\n",
      "50\n",
      "60\n",
      "70\n",
      "80\n",
      "90\n",
      "100\n",
      "110\n",
      "120\n",
      "130\n",
      "140\n",
      "150\n",
      "160\n",
      "170\n",
      "180\n",
      "190\n",
      "200\n",
      "210\n",
      "220\n",
      "230\n",
      "240\n",
      "250\n",
      "260\n",
      "270\n",
      "280\n",
      "290\n"
     ]
    }
   ],
   "source": [
    "[X_test, Y_test] = generate_test_set_regression()"
   ]
  },
  {
   "cell_type": "code",
   "execution_count": 54,
   "metadata": {},
   "outputs": [],
   "source": [
    "\n",
    "from sklearn import preprocessing\n",
    "Y_train_norm = preprocessing.normalize(Y_train, norm='l2')\n",
    "Y_test_norm = preprocessing.normalize(Y_test, norm='l2')"
   ]
  },
  {
   "cell_type": "code",
   "execution_count": 55,
   "metadata": {},
   "outputs": [
    {
     "data": {
      "text/plain": [
       "((300, 5184), (300, 6), (300, 5184), (300, 6), (300, 6), (300, 6))"
      ]
     },
     "execution_count": 55,
     "metadata": {},
     "output_type": "execute_result"
    }
   ],
   "source": [
    "X_train.shape , Y_train.shape ,X_test.shape , Y_test.shape ,Y_train_norm.shape,Y_test_norm.shape"
   ]
  },
  {
   "cell_type": "code",
   "execution_count": 56,
   "metadata": {},
   "outputs": [
    {
     "data": {
      "image/png": "[encoded data removed]",
      "text/plain": [
       "<Figure size 360x360 with 1 Axes>"
      ]
     },
     "metadata": {
      "needs_background": "light"
     },
     "output_type": "display_data"
    }
   ],
   "source": [
    "visualize_prediction(X_train[1],Y_train_norm[1])"
   ]
  },
  {
   "cell_type": "code",
   "execution_count": 57,
   "metadata": {},
   "outputs": [],
   "source": [
    "X_train_rs2 = X_train.reshape(X_train.shape[0],72,72,1)\n",
    "X_test_rs2 = X_test.reshape(X_test.shape[0],72,72,1)"
   ]
  },
  {
   "cell_type": "code",
   "execution_count": 58,
   "metadata": {},
   "outputs": [],
   "source": [
    "model_adam_fin = Sequential()\n",
    "# The Input Layer :\n",
    "model_adam_fin.add(Conv2D(32, kernel_size=(5, 5), activation='relu', input_shape=(72,72,1)))\n",
    "model_adam_fin.add(MaxPooling2D(pool_size=(2, 2)))\n",
    "model_adam_fin.add(Conv2D(16, kernel_size=(5, 5), activation='relu'))\n",
    "model_adam_fin.add(MaxPooling2D(pool_size=(2, 2)))\n",
    "model_adam_fin.add(Flatten())\n",
    "model_adam_fin.add(Dense(64, kernel_initializer='normal', activation='relu'))"
   ]
  },
  {
   "cell_type": "code",
   "execution_count": 59,
   "metadata": {},
   "outputs": [],
   "source": [
    "# The Output Layer :\n",
    "model_adam_fin.add(Dense(6, kernel_initializer='normal',activation='linear'))\n",
    "model_adam_fin.compile(optimizer='Adam',\n",
    "              loss='categorical_crossentropy',\n",
    "              metrics=['accuracy'])"
   ]
  },
  {
   "cell_type": "code",
   "execution_count": 60,
   "metadata": {},
   "outputs": [
    {
     "name": "stdout",
     "output_type": "stream",
     "text": [
      "Train on 240 samples, validate on 60 samples\n",
      "Epoch 1/20\n",
      "240/240 [==============================] - 13s 54ms/step - loss: 4.5669 - acc: 0.1333 - val_loss: 3.8659 - val_acc: 0.1000\n",
      "Epoch 2/20\n",
      "240/240 [==============================] - 12s 51ms/step - loss: 3.8076 - acc: 0.2042 - val_loss: 3.8697 - val_acc: 0.1333\n",
      "Epoch 3/20\n",
      "240/240 [==============================] - 12s 51ms/step - loss: 3.8005 - acc: 0.2250 - val_loss: 3.8471 - val_acc: 0.1500\n",
      "Epoch 4/20\n",
      "240/240 [==============================] - 12s 51ms/step - loss: 3.7933 - acc: 0.2000 - val_loss: 3.8407 - val_acc: 0.1833\n",
      "Epoch 5/20\n",
      "240/240 [==============================] - 12s 51ms/step - loss: 3.7906 - acc: 0.2167 - val_loss: 3.8388 - val_acc: 0.1833\n",
      "Epoch 6/20\n",
      "240/240 [==============================] - 12s 51ms/step - loss: 3.7845 - acc: 0.3458 - val_loss: 3.8373 - val_acc: 0.2333\n",
      "Epoch 7/20\n",
      "240/240 [==============================] - 12s 51ms/step - loss: 3.7756 - acc: 0.3250 - val_loss: 3.8276 - val_acc: 0.2667\n",
      "Epoch 8/20\n",
      "240/240 [==============================] - 12s 51ms/step - loss: 3.7622 - acc: 0.3333 - val_loss: 3.8150 - val_acc: 0.2500\n",
      "Epoch 9/20\n",
      "240/240 [==============================] - 12s 51ms/step - loss: 3.7431 - acc: 0.3500 - val_loss: 3.7934 - val_acc: 0.2833\n",
      "Epoch 10/20\n",
      "240/240 [==============================] - 12s 51ms/step - loss: 3.7245 - acc: 0.3833 - val_loss: 3.7938 - val_acc: 0.2000\n",
      "Epoch 11/20\n",
      "240/240 [==============================] - 13s 53ms/step - loss: 3.7193 - acc: 0.3792 - val_loss: 3.7946 - val_acc: 0.3000\n",
      "Epoch 12/20\n",
      "240/240 [==============================] - 12s 51ms/step - loss: 3.7127 - acc: 0.3917 - val_loss: 3.8145 - val_acc: 0.2833\n",
      "Epoch 13/20\n",
      "240/240 [==============================] - 12s 51ms/step - loss: 3.7022 - acc: 0.3833 - val_loss: 3.8128 - val_acc: 0.2667\n",
      "Epoch 14/20\n",
      "240/240 [==============================] - 12s 51ms/step - loss: 3.6882 - acc: 0.3958 - val_loss: 3.8217 - val_acc: 0.2667\n",
      "Epoch 15/20\n",
      "240/240 [==============================] - 12s 51ms/step - loss: 3.6783 - acc: 0.4125 - val_loss: 3.8162 - val_acc: 0.3000\n",
      "Epoch 16/20\n",
      "240/240 [==============================] - 12s 51ms/step - loss: 3.6764 - acc: 0.3958 - val_loss: 3.8815 - val_acc: 0.3167\n",
      "Epoch 17/20\n",
      "240/240 [==============================] - 12s 51ms/step - loss: 3.6691 - acc: 0.4167 - val_loss: 4.0752 - val_acc: 0.3000\n",
      "Epoch 18/20\n",
      "240/240 [==============================] - 12s 51ms/step - loss: 3.6579 - acc: 0.4167 - val_loss: 4.0362 - val_acc: 0.2833\n",
      "Epoch 19/20\n",
      "240/240 [==============================] - 12s 51ms/step - loss: 3.6535 - acc: 0.4417 - val_loss: 4.3450 - val_acc: 0.2667\n",
      "Epoch 20/20\n",
      "240/240 [==============================] - 12s 51ms/step - loss: 3.8202 - acc: 0.4375 - val_loss: 3.8115 - val_acc: 0.3333\n"
     ]
    },
    {
     "data": {
      "text/plain": [
       "<keras.callbacks.History at 0x119e9b450>"
      ]
     },
     "execution_count": 60,
     "metadata": {},
     "output_type": "execute_result"
    }
   ],
   "source": [
    "model_adam_fin.fit(X_train.reshape((300, 72, 72, 1)), Y_train_norm, epochs=20, batch_size=32,validation_split=0.2)"
   ]
  },
  {
   "cell_type": "code",
   "execution_count": 61,
   "metadata": {},
   "outputs": [
    {
     "name": "stdout",
     "output_type": "stream",
     "text": [
      "300/300 [==============================] - 5s 15ms/step\n"
     ]
    },
    {
     "data": {
      "text/plain": [
       "[3.7141549396514892, 0.39333333293596906]"
      ]
     },
     "execution_count": 61,
     "metadata": {},
     "output_type": "execute_result"
    }
   ],
   "source": [
    "model_adam_fin.evaluate(X_train.reshape((300, 72, 72, 1)), Y_train_norm)"
   ]
  },
  {
   "cell_type": "code",
   "execution_count": 62,
   "metadata": {},
   "outputs": [
    {
     "name": "stdout",
     "output_type": "stream",
     "text": [
      "300/300 [==============================] - 5s 15ms/step\n"
     ]
    },
    {
     "data": {
      "text/plain": [
       "[3.817732594807943, 0.2300000003973643]"
      ]
     },
     "execution_count": 62,
     "metadata": {},
     "output_type": "execute_result"
    }
   ],
   "source": [
    "model_adam_fin.evaluate(X_test.reshape((300, 72, 72, 1)), Y_test_norm)"
   ]
  },
  {
   "cell_type": "code",
   "execution_count": 63,
   "metadata": {},
   "outputs": [
    {
     "data": {
      "image/png": "[encoded data removed]",
      "text/plain": [
       "<Figure size 360x360 with 1 Axes>"
      ]
     },
     "metadata": {
      "needs_background": "light"
     },
     "output_type": "display_data"
    }
   ],
   "source": [
    "visualize_prediction(X_test[30],model_adam_fin.predict(X_test[30].reshape(1,72,72,1)))\n",
    "#visualize_prediction(X_train[8],Y_train_norm[8])\n"
   ]
  },
  {
   "cell_type": "markdown",
   "metadata": {},
   "source": [
    "# 7 . Image Denoising"
   ]
  },
  {
   "cell_type": "code",
   "execution_count": 64,
   "metadata": {},
   "outputs": [],
   "source": [
    "from keras.layers import UpSampling2D"
   ]
  },
  {
   "cell_type": "code",
   "execution_count": 65,
   "metadata": {},
   "outputs": [],
   "source": [
    "def generate_a_drawing_denoise(figsize, U, V, noise=0.0):\n",
    "    fig = plt.figure(figsize=(figsize, figsize))\n",
    "    ax = plt.subplot(111)\n",
    "    plt.axis('Off')\n",
    "    ax.set_xlim(0, figsize)\n",
    "    ax.set_ylim(0, figsize)\n",
    "    ax.fill(U, V, \"k\")\n",
    "    fig.canvas.draw()\n",
    "    imdata = np.frombuffer(fig.canvas.tostring_rgb(), dtype=np.uint8)[\n",
    "        ::3].astype(np.float32)\n",
    "    imdatan = imdata + noise * np.random.random(imdata.size)\n",
    "    plt.close(fig)\n",
    "    return imdatan, imdata"
   ]
  },
  {
   "cell_type": "code",
   "execution_count": 66,
   "metadata": {},
   "outputs": [],
   "source": [
    "def generate_a_rectangle_denoise(noise=0.0, free_location=False):\n",
    "    figsize = 1.0\n",
    "    U = np.zeros(4)\n",
    "    V = np.zeros(4)\n",
    "    if free_location:\n",
    "        corners = np.random.random(4)\n",
    "        top = max(corners[0], corners[1])\n",
    "        bottom = min(corners[0], corners[1])\n",
    "        left = min(corners[2], corners[3])\n",
    "        right = max(corners[2], corners[3])\n",
    "    else:\n",
    "        side = (0.3 + 0.7 * np.random.random()) * figsize\n",
    "        top = figsize / 2 + side / 2\n",
    "        bottom = figsize / 2 - side / 2\n",
    "        left = bottom\n",
    "        right = top\n",
    "    U[0] = U[1] = top\n",
    "    U[2] = U[3] = bottom\n",
    "    V[0] = V[3] = left\n",
    "    V[1] = V[2] = right\n",
    "    return generate_a_drawing_denoise(figsize, U, V, noise)"
   ]
  },
  {
   "cell_type": "code",
   "execution_count": 67,
   "metadata": {},
   "outputs": [],
   "source": [
    "def generate_a_triangle_denoise(noise=0.0, free_location=False):\n",
    "    figsize = 1.0\n",
    "    if free_location:\n",
    "        U = np.random.random(3)\n",
    "        V = np.random.random(3)\n",
    "    else:\n",
    "        size = (0.3 + 0.7 * np.random.random()) * figsize / 2\n",
    "        middle = figsize / 2\n",
    "        U = (middle, middle + size, middle - size)\n",
    "        V = (middle + size, middle - size, middle - size)\n",
    "    imdatan, imdata = generate_a_drawing_denoise(figsize, U, V, noise)\n",
    "    return [imdatan,imdata, [U[0], V[0], U[1], V[1], U[2], V[2]]]"
   ]
  },
  {
   "cell_type": "code",
   "execution_count": 68,
   "metadata": {},
   "outputs": [],
   "source": [
    "def generate_a_disk_denoise(noise=0.0, free_location=False):\n",
    "    figsize = 1.0\n",
    "    if free_location:\n",
    "        center = np.random.random(2)\n",
    "    else:\n",
    "        center = (figsize / 2, figsize / 2)\n",
    "    radius = (0.3 + 0.7 * np.random.random()) * figsize / 2\n",
    "    N = 50\n",
    "    U = np.zeros(N)\n",
    "    V = np.zeros(N)\n",
    "    i = 0\n",
    "    for t in np.linspace(0, 2 * np.pi, N):\n",
    "        U[i] = center[0] + np.cos(t) * radius\n",
    "        V[i] = center[1] + np.sin(t) * radius\n",
    "        i = i + 1\n",
    "    return generate_a_drawing_denoise(figsize, U, V, noise)"
   ]
  },
  {
   "cell_type": "code",
   "execution_count": 69,
   "metadata": {},
   "outputs": [],
   "source": [
    "def generate_dataset_denoise(nb_samples, noise=0.0, free_location=False):\n",
    "    # Getting im_size:\n",
    "    im_size = generate_a_rectangle_denoise()[0].shape[0]\n",
    "    X = np.zeros([nb_samples, im_size])\n",
    "    Y = np.zeros([nb_samples, im_size])\n",
    "    print('Creating data:')\n",
    "    for i in range(nb_samples):\n",
    "        if i % 100 == 0:\n",
    "            print(i)\n",
    "        category = np.random.randint(3)\n",
    "        if category == 0:\n",
    "            X[i], Y[i] = generate_a_rectangle_denoise(noise, free_location)\n",
    "        elif category == 1:\n",
    "            X[i],Y[i] = generate_a_disk_denoise(noise, free_location)\n",
    "        else:\n",
    "            [X[i],Y[i], V] = generate_a_triangle_denoise(noise, free_location)\n",
    "    X = (X + noise) / (255 + 2 * noise)\n",
    "    Y = Y/255\n",
    "    return [X, Y]"
   ]
  },
  {
   "cell_type": "code",
   "execution_count": 70,
   "metadata": {},
   "outputs": [
    {
     "name": "stdout",
     "output_type": "stream",
     "text": [
      "Creating data:\n",
      "0\n",
      "100\n",
      "200\n",
      "300\n",
      "400\n"
     ]
    }
   ],
   "source": [
    "[X_train8,Y_train8]=generate_dataset_denoise(500,20,True)\n"
   ]
  },
  {
   "cell_type": "code",
   "execution_count": 71,
   "metadata": {},
   "outputs": [],
   "source": [
    "Y_train_rs3 = Y_train8.reshape(Y_train8.shape[0],72,72,1)\n",
    "X_train_rs3 = X_train8.reshape(X_train8.shape[0],72,72,1)"
   ]
  },
  {
   "cell_type": "code",
   "execution_count": 72,
   "metadata": {},
   "outputs": [
    {
     "data": {
      "text/plain": [
       "<matplotlib.image.AxesImage at 0xb3f7cbc10>"
      ]
     },
     "execution_count": 72,
     "metadata": {},
     "output_type": "execute_result"
    },
    {
     "data": {
      "image/png": "[encoded data removed]",
      "text/plain": [
       "<Figure size 432x288 with 1 Axes>"
      ]
     },
     "metadata": {
      "needs_background": "light"
     },
     "output_type": "display_data"
    }
   ],
   "source": [
    "plt.imshow(X_train_rs3[100].reshape(IMAGE_SIZE, IMAGE_SIZE), cmap='gray')"
   ]
  },
  {
   "cell_type": "code",
   "execution_count": 73,
   "metadata": {},
   "outputs": [
    {
     "data": {
      "text/plain": [
       "<matplotlib.image.AxesImage at 0xb3f9908d0>"
      ]
     },
     "execution_count": 73,
     "metadata": {},
     "output_type": "execute_result"
    },
    {
     "data": {
      "image/png": "[encoded data removed]",
      "text/plain": [
       "<Figure size 432x288 with 1 Axes>"
      ]
     },
     "metadata": {
      "needs_background": "light"
     },
     "output_type": "display_data"
    }
   ],
   "source": [
    "plt.imshow(Y_train_rs3[100].reshape(IMAGE_SIZE, IMAGE_SIZE), cmap='gray')"
   ]
  },
  {
   "cell_type": "code",
   "execution_count": 74,
   "metadata": {},
   "outputs": [],
   "source": [
    "model_den = Sequential()"
   ]
  },
  {
   "cell_type": "code",
   "execution_count": 75,
   "metadata": {},
   "outputs": [],
   "source": [
    "model_den.add(Conv2D(32,(3, 3), activation='relu',padding = 'same' ,input_shape=(72,72,1)))\n",
    "model_den.add(MaxPooling2D(pool_size=(2, 2)))\n",
    "model_den.add(Conv2D(32,(3,3), activation = 'relu', padding = 'same'))\n",
    "model_den.add(MaxPooling2D(pool_size=(2,2)))\n",
    "\n",
    "model_den.add(Conv2D(32, kernel_size=(3, 3), activation='relu', padding = 'same'))\n",
    "model_den.add(UpSampling2D(size=(2, 2)))\n",
    "model_den.add(Conv2D(32, kernel_size=(3, 3), activation='relu', padding = 'same'))\n",
    "model_den.add(UpSampling2D(size=(2, 2)))\n",
    "model_den.add(Conv2D(1, kernel_size=(3, 3), activation='sigmoid', padding = 'same'))"
   ]
  },
  {
   "cell_type": "code",
   "execution_count": 76,
   "metadata": {},
   "outputs": [],
   "source": [
    "#model_den.compile(optimizer='Adam',loss='categorical_crossentropy',metrics=['accuracy'])\n",
    "model_den.compile(optimizer='adadelta',loss='binary_crossentropy',metrics=['accuracy'])"
   ]
  },
  {
   "cell_type": "code",
   "execution_count": 77,
   "metadata": {},
   "outputs": [
    {
     "name": "stdout",
     "output_type": "stream",
     "text": [
      "Epoch 1/6\n",
      "500/500 [==============================] - 49s 99ms/step - loss: 0.3869 - acc: 0.9052\n",
      "Epoch 2/6\n",
      "500/500 [==============================] - 48s 96ms/step - loss: 0.2043 - acc: 0.9087\n",
      "Epoch 3/6\n",
      "500/500 [==============================] - 48s 97ms/step - loss: 0.1574 - acc: 0.9381\n",
      "Epoch 4/6\n",
      "500/500 [==============================] - 50s 100ms/step - loss: 0.1149 - acc: 0.9697\n",
      "Epoch 5/6\n",
      "500/500 [==============================] - 54s 108ms/step - loss: 0.0646 - acc: 0.9815\n",
      "Epoch 6/6\n",
      "500/500 [==============================] - 58s 115ms/step - loss: 0.0529 - acc: 0.9814\n"
     ]
    },
    {
     "data": {
      "text/plain": [
       "<keras.callbacks.History at 0xb3fc0af90>"
      ]
     },
     "execution_count": 77,
     "metadata": {},
     "output_type": "execute_result"
    }
   ],
   "source": [
    "model_den.fit(X_train_rs3, Y_train_rs3, epochs=6, batch_size=64)"
   ]
  },
  {
   "cell_type": "code",
   "execution_count": 78,
   "metadata": {},
   "outputs": [
    {
     "name": "stdout",
     "output_type": "stream",
     "text": [
      "500/500 [==============================] - 18s 37ms/step\n"
     ]
    },
    {
     "data": {
      "text/plain": [
       "[0.03987540769577026, 0.9845555515289307]"
      ]
     },
     "execution_count": 78,
     "metadata": {},
     "output_type": "execute_result"
    }
   ],
   "source": [
    "model_den.evaluate(X_train_rs3, Y_train_rs3)"
   ]
  },
  {
   "cell_type": "code",
   "execution_count": 79,
   "metadata": {},
   "outputs": [
    {
     "data": {
      "image/png": "[encoded data removed]",
      "text/plain": [
       "<Figure size 360x360 with 1 Axes>"
      ]
     },
     "metadata": {
      "needs_background": "light"
     },
     "output_type": "display_data"
    }
   ],
   "source": [
    "visualize_prediction(X_train_rs3[9],model_adam_fin.predict(X_train_rs3[9].reshape(1,72,72,1)))"
   ]
  }
 ],
 "metadata": {
  "kernelspec": {
   "display_name": "Python 2",
   "language": "python",
   "name": "python2"
  },
  "language_info": {
   "codemirror_mode": {
    "name": "ipython",
    "version": 2
   },
   "file_extension": ".py",
   "mimetype": "text/x-python",
   "name": "python",
   "nbconvert_exporter": "python",
   "pygments_lexer": "ipython2",
   "version": "2.7.15"
  }
 },
 "nbformat": 4,
 "nbformat_minor": 2
}
